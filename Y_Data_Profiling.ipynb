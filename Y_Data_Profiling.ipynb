{
 "cells": [
  {
   "cell_type": "markdown",
   "id": "9663fb38-7229-4515-8a66-3c5f286990b6",
   "metadata": {},
   "source": [
    "### Perform an EDA of dataset subject_info using YDATA Profiling.\n",
    "What is EDA? Exploratory Data Analysis (EDA) is an analysis approach that identifies general patterns in the data. These patterns include outliers and features of the data that might be unexpected. EDA is an important first step in any data analysis. Why use ydata-profiling? ydata-profiling is a valuable tool for data scientists and analysts because it streamlines EDA,provides comprehensive insights, enhances data quality, and promotes data science best practices."
   ]
  },
  {
   "cell_type": "code",
   "execution_count": null,
   "id": "d8f1120b-57e7-4717-8d2e-d8a7ebcbb40b",
   "metadata": {},
   "outputs": [],
   "source": [
    "#Perform an EDA of dataset subject_info using YDATA Profiling.\n",
    "#Install below library\n",
    "# !pip install ydata-profiling\n",
    "#pip install -U ydata-profiling\n",
    "\n",
    "import pandas as pd\n",
    "from ydata_profiling import ProfileReport\n",
    "\n",
    "df1 = pd.read_csv(\"subject-info.csv\")\n",
    "#df1.info()\n",
    "\n",
    "#generates an in-memory profiling report object for your dataset (df1).\n",
    "profile = ProfileReport(df1, title=\"Profiling Report\")\n",
    "\n",
    "#display profile report output\n",
    "profile.to_notebook_iframe()\n",
    "\n",
    "#export report to html file\n",
    "profile.to_file(\"subject_info_report.html\")"
   ]
  }
 ],
 "metadata": {
  "kernelspec": {
   "display_name": "Python 3 (ipykernel)",
   "language": "python",
   "name": "python3"
  },
  "language_info": {
   "codemirror_mode": {
    "name": "ipython",
    "version": 3
   },
   "file_extension": ".py",
   "mimetype": "text/x-python",
   "name": "python",
   "nbconvert_exporter": "python",
   "pygments_lexer": "ipython3",
   "version": "3.12.4"
  }
 },
 "nbformat": 4,
 "nbformat_minor": 5
}
